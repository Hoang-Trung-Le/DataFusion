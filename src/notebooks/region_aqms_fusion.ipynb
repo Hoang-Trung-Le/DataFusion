{
 "cells": [
  {
   "cell_type": "code",
   "execution_count": 1,
   "metadata": {},
   "outputs": [],
   "source": [
    "import os\n",
    "import sys\n",
    "import numpy as np\n",
    "import pandas as pd\n",
    "import matplotlib.pyplot as plt\n",
    "from datetime import datetime, timedelta\n",
    "\n",
    "\n",
    "sys.path.insert(0, \"../../../src\")\n"
   ]
  },
  {
   "cell_type": "code",
   "execution_count": 2,
   "metadata": {},
   "outputs": [],
   "source": [
    "sw = pd.read_csv(\n",
    "    \"../../data/processed/region/SW/AQMS/20240601_20240812/aqms_SW_20240601_20240812_hourly.csv\"\n",
    ")\n"
   ]
  },
  {
   "cell_type": "code",
   "execution_count": 4,
   "metadata": {},
   "outputs": [
    {
     "name": "stdout",
     "output_type": "stream",
     "text": [
      "                                    Missing Data Count  Missing Data Rate (%)  \\\n",
      "datetime                                             0               0.000000   \n",
      "LIVERPOOL PM2.5 1h average                          13               0.742433   \n",
      "BRINGELLY PM2.5 1h average                          33               1.884637   \n",
      "BARGO PM2.5 1h average                              12               0.685323   \n",
      "MACARTHUR PM2.5 1h average                        1751             100.000000   \n",
      "OAKDALE PM2.5 1h average                            19               1.085094   \n",
      "CAMPBELLTOWN WEST PM2.5 1h average                   5               0.285551   \n",
      "CAMDEN PM2.5 1h average                             33               1.884637   \n",
      "\n",
      "                                    Negative Data Count  \\\n",
      "datetime                                              0   \n",
      "LIVERPOOL PM2.5 1h average                          124   \n",
      "BRINGELLY PM2.5 1h average                          267   \n",
      "BARGO PM2.5 1h average                              320   \n",
      "MACARTHUR PM2.5 1h average                            0   \n",
      "OAKDALE PM2.5 1h average                            323   \n",
      "CAMPBELLTOWN WEST PM2.5 1h average                  174   \n",
      "CAMDEN PM2.5 1h average                             213   \n",
      "\n",
      "                                    Negative Data Rate (%)  \n",
      "datetime                                          0.000000  \n",
      "LIVERPOOL PM2.5 1h average                        7.081668  \n",
      "BRINGELLY PM2.5 1h average                       15.248429  \n",
      "BARGO PM2.5 1h average                           18.275271  \n",
      "MACARTHUR PM2.5 1h average                        0.000000  \n",
      "OAKDALE PM2.5 1h average                         18.446602  \n",
      "CAMPBELLTOWN WEST PM2.5 1h average                9.937179  \n",
      "CAMDEN PM2.5 1h average                          12.164477  \n"
     ]
    }
   ],
   "source": [
    "# Count the number of missing data (NaN values) per column\n",
    "missing_data_count = sw.isna().sum()\n",
    "\n",
    "# Calculate the rate of missing data per column\n",
    "missing_data_rate = sw.isna().mean()\n",
    "\n",
    "sw = sw.apply(pd.to_numeric, errors=\"coerce\")\n",
    "# Count the number of negative values per column\n",
    "negative_data_count = (sw <= 0).sum()\n",
    "\n",
    "# Calculate the rate of negative data per column\n",
    "negative_data_rate = (sw <= 0).mean()\n",
    "\n",
    "# Combine the results into a summary DataFrame\n",
    "summary_df = pd.DataFrame(\n",
    "    {\n",
    "        \"Missing Data Count\": missing_data_count,\n",
    "        \"Missing Data Rate (%)\": missing_data_rate * 100,\n",
    "        \"Negative Data Count\": negative_data_count,\n",
    "        \"Negative Data Rate (%)\": negative_data_rate * 100,\n",
    "    }\n",
    ")\n",
    "\n",
    "# Display the summary\n",
    "print(summary_df)\n"
   ]
  },
  {
   "cell_type": "code",
   "execution_count": null,
   "metadata": {},
   "outputs": [],
   "source": []
  }
 ],
 "metadata": {
  "kernelspec": {
   "display_name": "Python 3",
   "language": "python",
   "name": "python3"
  },
  "language_info": {
   "codemirror_mode": {
    "name": "ipython",
    "version": 3
   },
   "file_extension": ".py",
   "mimetype": "text/x-python",
   "name": "python",
   "nbconvert_exporter": "python",
   "pygments_lexer": "ipython3",
   "version": "3.9.12"
  }
 },
 "nbformat": 4,
 "nbformat_minor": 2
}
